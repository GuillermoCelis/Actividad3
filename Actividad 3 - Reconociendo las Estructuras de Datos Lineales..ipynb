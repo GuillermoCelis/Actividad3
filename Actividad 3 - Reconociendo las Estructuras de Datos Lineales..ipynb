{
 "cells": [
  {
   "cell_type": "markdown",
   "metadata": {},
   "source": [
    "# Prioridades y Aplicaciones de Estructuras de Datos Lineales\n",
    "\n",
    "En este notebook, se daran parametros basicos de las prioridades y aplicaciones de las estructuras de datos lineales, específicamente con las pilas y colas.\n",
    "\n",
    "**Actividad:** Actividad 3 - Reconociendo las Estructuras de Datos Lineales.\n",
    "\n",
    "**Estudiante:** Ramon Guillermo Silva Celis\n",
    "\n",
    "**Curso:** Estructura de Datos\n",
    "\n",
    "**Fecha:** 30 de septiembre de 2023\n"
   ]
  },
  {
   "cell_type": "code",
   "execution_count": 25,
   "metadata": {},
   "outputs": [
    {
     "name": "stdout",
     "output_type": "stream",
     "text": [
      "Tabla de prioridades de Estructuras de Datos Lineales\n",
      "\n",
      "| Estructura de Datos       | Prioridad   | Aplicaciones                                                  |\n",
      "|:--------------------------|:------------|:--------------------------------------------------------------|\n",
      "| Pila                      | Alta        | Gestión de historiales, validación de expresiones matemáticas |\n",
      "| Cola                      | Alta        | Planificación de tareas, impresión en cola                    |\n",
      "| Lista Enlazada            | Media       | Búsquedas secuenciales, listas de reproducción                |\n",
      "| Array (Arreglo)           | Media       | Acceso aleatorio a elementos, matrices                        |\n",
      "| Lista Doblemente Enlazada | Media       | Implementación de editores de texto                           |\n",
      "| Lista Circular            | Media       | Gestión de recursos compartidos                               |\n",
      "| Pila con Dos Colas        | Media       | Implementación de colas de prioridad                          |\n",
      "| Árbol                     | Alta        | Búsquedas binarias, estructuras jerárquicas                   |\n",
      "| Grafo                     | Alta        | Redes sociales, sistemas de recomendación                     |\n"
     ]
    }
   ],
   "source": [
    "from tabulate import tabulate\n",
    "\n",
    "print(\"Tabla de prioridades de Estructuras de Datos Lineales\\n\")\n",
    "prioridades_data = [\n",
    "    [\"Estructura de Datos\", \"Prioridad\", \"Aplicaciones\"],\n",
    "    [\"Pila\", \"Alta\", \"Gestión de historiales, validación de expresiones matemáticas\"],\n",
    "    [\"Cola\", \"Alta\", \"Planificación de tareas, impresión en cola\"],\n",
    "    [\"Lista Enlazada\", \"Media\", \"Búsquedas secuenciales, listas de reproducción\"],\n",
    "    [\"Array (Arreglo)\", \"Media\", \"Acceso aleatorio a elementos, matrices\"],\n",
    "    [\"Lista Doblemente Enlazada\", \"Media\", \"Implementación de editores de texto\"],\n",
    "    [\"Lista Circular\", \"Media\", \"Gestión de recursos compartidos\"],\n",
    "    [\"Pila con Dos Colas\", \"Media\", \"Implementación de colas de prioridad\"],\n",
    "    [\"Árbol\", \"Alta\", \"Búsquedas binarias, estructuras jerárquicas\"],\n",
    "    [\"Grafo\", \"Alta\", \"Redes sociales, sistemas de recomendación\"]\n",
    "]\n",
    "\n",
    "prioridades_table = tabulate(prioridades_data, headers=\"firstrow\", tablefmt=\"pipe\")\n",
    "\n",
    "print(prioridades_table)\n"
   ]
  },
  {
   "cell_type": "markdown",
   "metadata": {},
   "source": [
    "# Prioridades y Aplicaciones de Estructuras de Datos Lineales\n",
    "\n",
    "A continuación, se presenta una tabla que enumera las prioridades y aplicaciones de las estructuras de datos lineales:\n",
    "\n"
   ]
  },
  {
   "cell_type": "code",
   "execution_count": 26,
   "metadata": {},
   "outputs": [
    {
     "name": "stdout",
     "output_type": "stream",
     "text": [
      "Tabla Ejemplo Pila\n",
      "\n",
      "|:----------|:---------------------------------------------|:------------------|\n",
      "| Operación | Descripción                                  | Estado de la Pila |\n",
      "| Push(5)   | Agregar el elemento 5 a la pila.             | [5]               |\n",
      "| Push(10)  | Agregar el elemento 10 a la pila.            | [5, 10]           |\n",
      "| Pop()     | Quitar el elemento superior (10) de la pila. | [5]               |\n",
      "| Push(20)  | Agregar el elemento 20 a la pila.            | [5, 20]           |\n",
      "| Top()     | Obtener el elemento superior de la pila.     | 20                |\n",
      "| Pop()     | Quitar el elemento superior (20) de la pila. | [5]               |\n"
     ]
    }
   ],
   "source": [
    "# Tabla de ejemplo de Pila\n",
    "print(\"Tabla Ejemplo Pila\\n\")\n",
    "pila_data = [\n",
    "    [\"Operación\", \"Descripción\", \"Estado de la Pila\"],\n",
    "    [\"Push(5)\", \"Agregar el elemento 5 a la pila.\", \"[5]\"],\n",
    "    [\"Push(10)\", \"Agregar el elemento 10 a la pila.\", \"[5, 10]\"],\n",
    "    [\"Pop()\", \"Quitar el elemento superior (10) de la pila.\", \"[5]\"],\n",
    "    [\"Push(20)\", \"Agregar el elemento 20 a la pila.\", \"[5, 20]\"],\n",
    "    [\"Top()\", \"Obtener el elemento superior de la pila.\", \"20\"],\n",
    "    [\"Pop()\", \"Quitar el elemento superior (20) de la pila.\", \"[5]\"]\n",
    "]\n",
    "\n",
    "pila_table = tabulate(pila_data, tablefmt=\"pipe\")\n",
    "\n",
    "print(pila_table)\n"
   ]
  },
  {
   "cell_type": "code",
   "execution_count": 27,
   "metadata": {},
   "outputs": [
    {
     "name": "stdout",
     "output_type": "stream",
     "text": [
      "Tabla Ejemplo Cola\n",
      "\n",
      "|:------------|:--------------------------------------------|:------------------|\n",
      "| Operación   | Descripción                                 | Estado de la Cola |\n",
      "| Enqueue(5)  | Agregar el elemento 5 a la cola.            | [5]               |\n",
      "| Enqueue(10) | Agregar el elemento 10 a la cola.           | [5, 10]           |\n",
      "| Dequeue()   | Quitar el elemento frontal (5) de la cola.  | [10]              |\n",
      "| Enqueue(20) | Agregar el elemento 20 a la cola.           | [10, 20]          |\n",
      "| Front()     | Obtener el elemento frontal de la cola.     | 10                |\n",
      "| Dequeue()   | Quitar el elemento frontal (10) de la cola. | [20]              |\n"
     ]
    }
   ],
   "source": [
    "# Tabla de ejemplo de Cola\n",
    "print(\"Tabla Ejemplo Cola\\n\")\n",
    "cola_data = [\n",
    "    [\"Operación\", \"Descripción\", \"Estado de la Cola\"],\n",
    "    [\"Enqueue(5)\", \"Agregar el elemento 5 a la cola.\", \"[5]\"],\n",
    "    [\"Enqueue(10)\", \"Agregar el elemento 10 a la cola.\", \"[5, 10]\"],\n",
    "    [\"Dequeue()\", \"Quitar el elemento frontal (5) de la cola.\", \"[10]\"],\n",
    "    [\"Enqueue(20)\", \"Agregar el elemento 20 a la cola.\", \"[10, 20]\"],\n",
    "    [\"Front()\", \"Obtener el elemento frontal de la cola.\", \"10\"],\n",
    "    [\"Dequeue()\", \"Quitar el elemento frontal (10) de la cola.\", \"[20]\"]\n",
    "]\n",
    "\n",
    "cola_table = tabulate(cola_data, tablefmt=\"pipe\")\n",
    "\n",
    "print(cola_table)\n"
   ]
  }
 ],
 "metadata": {
  "kernelspec": {
   "display_name": "Python 3",
   "language": "python",
   "name": "python3"
  },
  "language_info": {
   "codemirror_mode": {
    "name": "ipython",
    "version": 3
   },
   "file_extension": ".py",
   "mimetype": "text/x-python",
   "name": "python",
   "nbconvert_exporter": "python",
   "pygments_lexer": "ipython3",
   "version": "3.11.5"
  },
  "orig_nbformat": 4
 },
 "nbformat": 4,
 "nbformat_minor": 2
}
